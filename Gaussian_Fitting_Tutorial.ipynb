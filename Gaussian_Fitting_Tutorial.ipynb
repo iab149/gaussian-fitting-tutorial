{
  "cells": [
    {
      "cell_type": "markdown",
      "metadata": {},
      "source": [
        "# \ud83c\udf93 Gaussian Fitting and Peak Detection\n",
        "Welcome to this interactive notebook for exploring Gaussian fitting and peak detection.\n",
        "\n",
        "In this notebook, you will:\n",
        "- Upload your own data file (.csv or .xls)\n",
        "- Select which columns represent X and Y\n",
        "- Detect peaks in your data\n",
        "- Fit your data to a sum of Gaussian curves\n",
        "- Evaluate fit quality using statistics\n",
        "- Export results and plots\n",
        "\n",
        "Let's get started!"
      ]
    },
    {
      "cell_type": "code",
      "execution_count": null,
      "metadata": {},
      "outputs": [],
      "source": [
        "# \ud83d\udce6 Import required libraries\n",
        "import numpy as np\n",
        "import pandas as pd\n",
        "import matplotlib.pyplot as plt\n",
        "from scipy.signal import find_peaks\n",
        "from scipy.optimize import curve_fit\n",
        "from ipywidgets import interact, widgets, fixed\n",
        "from IPython.display import display, clear_output\n",
        "from datetime import datetime\n",
        "import io\n",
        "from google.colab import files"
      ]
    },
    {
      "cell_type": "markdown",
      "metadata": {},
      "source": [
        "## \ud83d\udcc1 Upload Your Data File\n",
        "Use the widget below to upload a `.csv` or `.xls` file containing your data."
      ]
    },
    {
      "cell_type": "code",
      "execution_count": null,
      "metadata": {},
      "outputs": [],
      "source": [
        "# Upload file\n",
        "uploaded = files.upload()\n",
        "\n",
        "# Load the file into a DataFrame\n",
        "for fname in uploaded:\n",
        "    if fname.endswith('.csv'):\n",
        "        df = pd.read_csv(io.BytesIO(uploaded[fname]))\n",
        "    elif fname.endswith('.xls') or fname.endswith('.xlsx'):\n",
        "        df = pd.read_excel(io.BytesIO(uploaded[fname]))\n",
        "    else:\n",
        "        raise ValueError(\"Unsupported file format. Please upload a .csv or .xls file.\")\n",
        "\n",
        "print(\"\u2705 File loaded successfully!\")\n",
        "df.head()"
      ]
    },
    {
      "cell_type": "markdown",
      "metadata": {},
      "source": [
        "## \ud83d\udcca Select X and Y Columns\n",
        "Choose which columns in your data represent the X and Y values for analysis."
      ]
    },
    {
      "cell_type": "code",
      "execution_count": null,
      "metadata": {},
      "outputs": [],
      "source": [
        "# Create dropdowns for column selection\n",
        "x_dropdown = widgets.Dropdown(options=df.columns.tolist(), description='X Column:')\n",
        "y_dropdown = widgets.Dropdown(options=df.columns.tolist(), description='Y Column:')\n",
        "display(x_dropdown, y_dropdown)"
      ]
    },
    {
      "cell_type": "markdown",
      "metadata": {},
      "source": [
        "## \ud83d\udd0d Peak Detection\n",
        "Detect peaks in your Y data and visualize them on a plot."
      ]
    },
    {
      "cell_type": "code",
      "execution_count": null,
      "metadata": {},
      "outputs": [],
      "source": [
        "# Detect and plot peaks\n",
        "def detect_and_plot_peaks(x_col, y_col):\n",
        "    x = df[x_col].values\n",
        "    y = df[y_col].values\n",
        "    peaks, _ = find_peaks(y, height=np.mean(y))\n",
        "    plt.figure(figsize=(10, 4))\n",
        "    plt.plot(x, y, label='Data')\n",
        "    plt.plot(x[peaks], y[peaks], 'ro', label='Detected Peaks')\n",
        "    plt.title('Peak Detection')\n",
        "    plt.xlabel('X')\n",
        "    plt.ylabel('Y')\n",
        "    plt.legend()\n",
        "    plt.grid(True)\n",
        "    plt.show()\n",
        "    return peaks\n",
        "\n",
        "peaks = detect_and_plot_peaks(x_dropdown.value, y_dropdown.value)"
      ]
    },
    {
      "cell_type": "markdown",
      "metadata": {},
      "source": [
        "## \u2705 Accept or Override Peak Guesses\n",
        "Choose whether to use the detected peaks or manually input initial guesses."
      ]
    },
    {
      "cell_type": "code",
      "execution_count": null,
      "metadata": {},
      "outputs": [],
      "source": [
        "# Toggle for accepting peak guesses\n",
        "accept_peaks = widgets.ToggleButtons(\n",
        "    options=['Accept Detected Peaks', 'Input Manually'],\n",
        "    description='Peak Init:',\n",
        "    style={'description_width': 'initial'}\n",
        ")\n",
        "display(accept_peaks)"
      ]
    },
    {
      "cell_type": "markdown",
      "metadata": {},
      "source": [
        "## \u2699\ufe0f Baseline Toggle\n",
        "Choose whether to include a baseline in the Gaussian fit."
      ]
    },
    {
      "cell_type": "code",
      "execution_count": null,
      "metadata": {},
      "outputs": [],
      "source": [
        "# Checkbox for baseline fitting\n",
        "fit_baseline = widgets.Checkbox(value=True, description='Fit Baseline')\n",
        "display(fit_baseline)"
      ]
    },
    {
      "cell_type": "markdown",
      "metadata": {},
      "source": [
        "## \ud83d\udcc8 Fit Gaussians to Data\n",
        "Fit the data to a sum of Gaussians using the selected parameters."
      ]
    },
    {
      "cell_type": "code",
      "execution_count": null,
      "metadata": {},
      "outputs": [],
      "source": [
        "# Define Gaussian model\n",
        "def gaussian(x, A, mu, sigma):\n",
        "    return A * np.exp(-((x - mu)**2) / (2 * sigma**2))\n",
        "\n",
        "def multi_gaussian(x, *params):\n",
        "    n = (len(params) - 1) // 3 if fit_baseline.value else len(params) // 3\n",
        "    y = np.zeros_like(x)\n",
        "    for i in range(n):\n",
        "        A = params[3*i]\n",
        "        mu = params[3*i+1]\n",
        "        sigma = params[3*i+2]\n",
        "        y += gaussian(x, A, mu, sigma)\n",
        "    if fit_baseline.value:\n",
        "        y += params[-1]\n",
        "    return y\n",
        "\n",
        "# Prepare initial guesses\n",
        "x = df[x_dropdown.value].values\n",
        "y = df[y_dropdown.value].values\n",
        "if accept_peaks.value == 'Accept Detected Peaks':\n",
        "    init_params = []\n",
        "    for p in peaks:\n",
        "        init_params += [y[p], x[p], 0.1]\n",
        "    if fit_baseline.value:\n",
        "        init_params += [np.min(y)]\n",
        "else:\n",
        "    num_gaussians = int(input(\"Enter number of Gaussians: \"))\n",
        "    init_params = []\n",
        "    for i in range(num_gaussians):\n",
        "        A = float(input(f\"Amplitude {i+1}: \"))\n",
        "        mu = float(input(f\"Mean {i+1}: \"))\n",
        "        sigma = float(input(f\"Sigma {i+1}: \"))\n",
        "        init_params += [A, mu, sigma]\n",
        "    if fit_baseline.value:\n",
        "        init_params += [np.min(y)]\n",
        "\n",
        "# Fit the model\n",
        "popt, pcov = curve_fit(multi_gaussian, x, y, p0=init_params)\n",
        "y_fit = multi_gaussian(x, *popt)\n",
        "\n",
        "# Plot fit\n",
        "plt.figure(figsize=(10, 4))\n",
        "plt.plot(x, y, label='Data')\n",
        "plt.plot(x, y_fit, 'r--', label='Gaussian Fit')\n",
        "plt.title('Gaussian Fit')\n",
        "plt.xlabel('X')\n",
        "plt.ylabel('Y')\n",
        "plt.legend()\n",
        "plt.grid(True)\n",
        "plt.show()"
      ]
    },
    {
      "cell_type": "markdown",
      "metadata": {},
      "source": [
        "## \ud83d\udcca Fit Statistics\n",
        "Evaluate the quality of the fit using R\u00b2, RMSE, and AIC."
      ]
    },
    {
      "cell_type": "code",
      "execution_count": null,
      "metadata": {},
      "outputs": [],
      "source": [
        "# Compute fit statistics\n",
        "residuals = y - y_fit\n",
        "ss_res = np.sum(residuals**2)\n",
        "ss_tot = np.sum((y - np.mean(y))**2)\n",
        "r_squared = 1 - (ss_res / ss_tot)\n",
        "rmse = np.sqrt(ss_res / len(y))\n",
        "aic = len(y) * np.log(ss_res / len(y)) + 2 * len(popt)\n",
        "\n",
        "print(f\"R\u00b2: {r_squared:.4f}\")\n",
        "print(f\"RMSE: {rmse:.4f}\")\n",
        "print(f\"AIC: {aic:.2f}\")"
      ]
    },
    {
      "cell_type": "markdown",
      "metadata": {},
      "source": [
        "## \ud83d\udcbe Export Results\n",
        "Save the fitted data and plot with a timestamped filename."
      ]
    },
    {
      "cell_type": "code",
      "execution_count": null,
      "metadata": {},
      "outputs": [],
      "source": [
        "# Export results\n",
        "timestamp = datetime.now().strftime('%Y%m%d_%H%M%S')\n",
        "filename_csv = f\"gaussian_fit_{timestamp}.csv\"\n",
        "filename_png = f\"gaussian_plot_{timestamp}.png\"\n",
        "\n",
        "# Save data\n",
        "result_df = pd.DataFrame({'X': x, 'Y': y, 'Y_Fit': y_fit})\n",
        "result_df.to_csv(filename_csv, index=False)\n",
        "\n",
        "# Save plot\n",
        "plt.figure(figsize=(10, 4))\n",
        "plt.plot(x, y, label='Data')\n",
        "plt.plot(x, y_fit, 'r--', label='Gaussian Fit')\n",
        "plt.title('Gaussian Fit')\n",
        "plt.xlabel('X')\n",
        "plt.ylabel('Y')\n",
        "plt.legend()\n",
        "plt.grid(True)\n",
        "plt.savefig(filename_png)\n",
        "plt.close()\n",
        "\n",
        "print(f\"\u2705 Results saved as {filename_csv} and {filename_png}\")"
      ]
    }
  ],
  "metadata": {
    "kernelspec": {
      "display_name": "Python 3",
      "language": "python",
      "name": "python3"
    },
    "language_info": {
      "name": "python",
      "version": "3.9"
    }
  },
  "nbformat": 4,
  "nbformat_minor": 5
}