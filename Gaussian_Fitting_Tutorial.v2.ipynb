{
  "cells": [
    {
      "cell_type": "markdown",
      "metadata": {
        "id": "f0qb-sN5-Ava"
      },
      "source": [
        "# 🎓 Gaussian Fitting and Peak Detection\n",
        "Welcome to this interactive notebook for exploring Gaussian fitting and peak detection.\n",
        "\n",
        "In this notebook, you will:\n",
        "- Upload your own data file (.csv or .xls)\n",
        "- Select which columns represent X and Y\n",
        "- Detect peaks in your data\n",
        "- Fit your data to a sum of Gaussian curves\n",
        "- Evaluate fit quality using statistics\n",
        "- Export results and plots\n",
        "\n",
        "Let's get started!"
      ],
      "id": "f0qb-sN5-Ava"
    },
    {
      "cell_type": "code",
      "execution_count": 1,
      "metadata": {
        "id": "RtNMRCjX-Avb"
      },
      "outputs": [],
      "source": [
        "# 📦 Import required libraries\n",
        "import numpy as np\n",
        "import pandas as pd\n",
        "import matplotlib.pyplot as plt\n",
        "from scipy.signal import find_peaks\n",
        "from scipy.optimize import curve_fit\n",
        "from ipywidgets import interact, widgets, fixed\n",
        "from IPython.display import display, clear_output\n",
        "from datetime import datetime\n",
        "import io\n",
        "from google.colab import files"
      ],
      "id": "RtNMRCjX-Avb"
    },
    {
      "cell_type": "markdown",
      "metadata": {
        "id": "WzEv3B_5-Avb"
      },
      "source": [
        "## 📁 Upload Your Data File\n",
        "Use the widget below to upload a `.csv` or `.xls` file containing your data."
      ],
      "id": "WzEv3B_5-Avb"
    },
    {
      "cell_type": "code",
      "execution_count": 3,
      "metadata": {
        "colab": {
          "base_uri": "https://localhost:8080/",
          "height": 279
        },
        "id": "ZAFONN4R-Avb",
        "outputId": "5dfa0bed-8b80-4c69-a761-033af520cfc2"
      },
      "outputs": [
        {
          "output_type": "display_data",
          "data": {
            "text/plain": [
              "<IPython.core.display.HTML object>"
            ],
            "text/html": [
              "\n",
              "     <input type=\"file\" id=\"files-2100983d-4dd8-49d8-b529-95cacffbc341\" name=\"files[]\" multiple disabled\n",
              "        style=\"border:none\" />\n",
              "     <output id=\"result-2100983d-4dd8-49d8-b529-95cacffbc341\">\n",
              "      Upload widget is only available when the cell has been executed in the\n",
              "      current browser session. Please rerun this cell to enable.\n",
              "      </output>\n",
              "      <script>// Copyright 2017 Google LLC\n",
              "//\n",
              "// Licensed under the Apache License, Version 2.0 (the \"License\");\n",
              "// you may not use this file except in compliance with the License.\n",
              "// You may obtain a copy of the License at\n",
              "//\n",
              "//      http://www.apache.org/licenses/LICENSE-2.0\n",
              "//\n",
              "// Unless required by applicable law or agreed to in writing, software\n",
              "// distributed under the License is distributed on an \"AS IS\" BASIS,\n",
              "// WITHOUT WARRANTIES OR CONDITIONS OF ANY KIND, either express or implied.\n",
              "// See the License for the specific language governing permissions and\n",
              "// limitations under the License.\n",
              "\n",
              "/**\n",
              " * @fileoverview Helpers for google.colab Python module.\n",
              " */\n",
              "(function(scope) {\n",
              "function span(text, styleAttributes = {}) {\n",
              "  const element = document.createElement('span');\n",
              "  element.textContent = text;\n",
              "  for (const key of Object.keys(styleAttributes)) {\n",
              "    element.style[key] = styleAttributes[key];\n",
              "  }\n",
              "  return element;\n",
              "}\n",
              "\n",
              "// Max number of bytes which will be uploaded at a time.\n",
              "const MAX_PAYLOAD_SIZE = 100 * 1024;\n",
              "\n",
              "function _uploadFiles(inputId, outputId) {\n",
              "  const steps = uploadFilesStep(inputId, outputId);\n",
              "  const outputElement = document.getElementById(outputId);\n",
              "  // Cache steps on the outputElement to make it available for the next call\n",
              "  // to uploadFilesContinue from Python.\n",
              "  outputElement.steps = steps;\n",
              "\n",
              "  return _uploadFilesContinue(outputId);\n",
              "}\n",
              "\n",
              "// This is roughly an async generator (not supported in the browser yet),\n",
              "// where there are multiple asynchronous steps and the Python side is going\n",
              "// to poll for completion of each step.\n",
              "// This uses a Promise to block the python side on completion of each step,\n",
              "// then passes the result of the previous step as the input to the next step.\n",
              "function _uploadFilesContinue(outputId) {\n",
              "  const outputElement = document.getElementById(outputId);\n",
              "  const steps = outputElement.steps;\n",
              "\n",
              "  const next = steps.next(outputElement.lastPromiseValue);\n",
              "  return Promise.resolve(next.value.promise).then((value) => {\n",
              "    // Cache the last promise value to make it available to the next\n",
              "    // step of the generator.\n",
              "    outputElement.lastPromiseValue = value;\n",
              "    return next.value.response;\n",
              "  });\n",
              "}\n",
              "\n",
              "/**\n",
              " * Generator function which is called between each async step of the upload\n",
              " * process.\n",
              " * @param {string} inputId Element ID of the input file picker element.\n",
              " * @param {string} outputId Element ID of the output display.\n",
              " * @return {!Iterable<!Object>} Iterable of next steps.\n",
              " */\n",
              "function* uploadFilesStep(inputId, outputId) {\n",
              "  const inputElement = document.getElementById(inputId);\n",
              "  inputElement.disabled = false;\n",
              "\n",
              "  const outputElement = document.getElementById(outputId);\n",
              "  outputElement.innerHTML = '';\n",
              "\n",
              "  const pickedPromise = new Promise((resolve) => {\n",
              "    inputElement.addEventListener('change', (e) => {\n",
              "      resolve(e.target.files);\n",
              "    });\n",
              "  });\n",
              "\n",
              "  const cancel = document.createElement('button');\n",
              "  inputElement.parentElement.appendChild(cancel);\n",
              "  cancel.textContent = 'Cancel upload';\n",
              "  const cancelPromise = new Promise((resolve) => {\n",
              "    cancel.onclick = () => {\n",
              "      resolve(null);\n",
              "    };\n",
              "  });\n",
              "\n",
              "  // Wait for the user to pick the files.\n",
              "  const files = yield {\n",
              "    promise: Promise.race([pickedPromise, cancelPromise]),\n",
              "    response: {\n",
              "      action: 'starting',\n",
              "    }\n",
              "  };\n",
              "\n",
              "  cancel.remove();\n",
              "\n",
              "  // Disable the input element since further picks are not allowed.\n",
              "  inputElement.disabled = true;\n",
              "\n",
              "  if (!files) {\n",
              "    return {\n",
              "      response: {\n",
              "        action: 'complete',\n",
              "      }\n",
              "    };\n",
              "  }\n",
              "\n",
              "  for (const file of files) {\n",
              "    const li = document.createElement('li');\n",
              "    li.append(span(file.name, {fontWeight: 'bold'}));\n",
              "    li.append(span(\n",
              "        `(${file.type || 'n/a'}) - ${file.size} bytes, ` +\n",
              "        `last modified: ${\n",
              "            file.lastModifiedDate ? file.lastModifiedDate.toLocaleDateString() :\n",
              "                                    'n/a'} - `));\n",
              "    const percent = span('0% done');\n",
              "    li.appendChild(percent);\n",
              "\n",
              "    outputElement.appendChild(li);\n",
              "\n",
              "    const fileDataPromise = new Promise((resolve) => {\n",
              "      const reader = new FileReader();\n",
              "      reader.onload = (e) => {\n",
              "        resolve(e.target.result);\n",
              "      };\n",
              "      reader.readAsArrayBuffer(file);\n",
              "    });\n",
              "    // Wait for the data to be ready.\n",
              "    let fileData = yield {\n",
              "      promise: fileDataPromise,\n",
              "      response: {\n",
              "        action: 'continue',\n",
              "      }\n",
              "    };\n",
              "\n",
              "    // Use a chunked sending to avoid message size limits. See b/62115660.\n",
              "    let position = 0;\n",
              "    do {\n",
              "      const length = Math.min(fileData.byteLength - position, MAX_PAYLOAD_SIZE);\n",
              "      const chunk = new Uint8Array(fileData, position, length);\n",
              "      position += length;\n",
              "\n",
              "      const base64 = btoa(String.fromCharCode.apply(null, chunk));\n",
              "      yield {\n",
              "        response: {\n",
              "          action: 'append',\n",
              "          file: file.name,\n",
              "          data: base64,\n",
              "        },\n",
              "      };\n",
              "\n",
              "      let percentDone = fileData.byteLength === 0 ?\n",
              "          100 :\n",
              "          Math.round((position / fileData.byteLength) * 100);\n",
              "      percent.textContent = `${percentDone}% done`;\n",
              "\n",
              "    } while (position < fileData.byteLength);\n",
              "  }\n",
              "\n",
              "  // All done.\n",
              "  yield {\n",
              "    response: {\n",
              "      action: 'complete',\n",
              "    }\n",
              "  };\n",
              "}\n",
              "\n",
              "scope.google = scope.google || {};\n",
              "scope.google.colab = scope.google.colab || {};\n",
              "scope.google.colab._files = {\n",
              "  _uploadFiles,\n",
              "  _uploadFilesContinue,\n",
              "};\n",
              "})(self);\n",
              "</script> "
            ]
          },
          "metadata": {}
        },
        {
          "output_type": "stream",
          "name": "stdout",
          "text": [
            "Saving test_gaussian_data_2.xlsx to test_gaussian_data_2.xlsx\n",
            "✅ File loaded successfully!\n"
          ]
        },
        {
          "output_type": "execute_result",
          "data": {
            "text/plain": [
              "          X    Y   Y_noisy\n",
              "0  5.800000  0.1  0.103796\n",
              "1  5.801001  0.1  0.124244\n",
              "2  5.802001  0.1  0.139637\n",
              "3  5.803002  0.1  0.072386\n",
              "4  5.804003  0.1  0.108862"
            ],
            "text/html": [
              "\n",
              "  <div id=\"df-95305f8e-5e42-4ccd-a1be-30ddb2d2adf1\" class=\"colab-df-container\">\n",
              "    <div>\n",
              "<style scoped>\n",
              "    .dataframe tbody tr th:only-of-type {\n",
              "        vertical-align: middle;\n",
              "    }\n",
              "\n",
              "    .dataframe tbody tr th {\n",
              "        vertical-align: top;\n",
              "    }\n",
              "\n",
              "    .dataframe thead th {\n",
              "        text-align: right;\n",
              "    }\n",
              "</style>\n",
              "<table border=\"1\" class=\"dataframe\">\n",
              "  <thead>\n",
              "    <tr style=\"text-align: right;\">\n",
              "      <th></th>\n",
              "      <th>X</th>\n",
              "      <th>Y</th>\n",
              "      <th>Y_noisy</th>\n",
              "    </tr>\n",
              "  </thead>\n",
              "  <tbody>\n",
              "    <tr>\n",
              "      <th>0</th>\n",
              "      <td>5.800000</td>\n",
              "      <td>0.1</td>\n",
              "      <td>0.103796</td>\n",
              "    </tr>\n",
              "    <tr>\n",
              "      <th>1</th>\n",
              "      <td>5.801001</td>\n",
              "      <td>0.1</td>\n",
              "      <td>0.124244</td>\n",
              "    </tr>\n",
              "    <tr>\n",
              "      <th>2</th>\n",
              "      <td>5.802001</td>\n",
              "      <td>0.1</td>\n",
              "      <td>0.139637</td>\n",
              "    </tr>\n",
              "    <tr>\n",
              "      <th>3</th>\n",
              "      <td>5.803002</td>\n",
              "      <td>0.1</td>\n",
              "      <td>0.072386</td>\n",
              "    </tr>\n",
              "    <tr>\n",
              "      <th>4</th>\n",
              "      <td>5.804003</td>\n",
              "      <td>0.1</td>\n",
              "      <td>0.108862</td>\n",
              "    </tr>\n",
              "  </tbody>\n",
              "</table>\n",
              "</div>\n",
              "    <div class=\"colab-df-buttons\">\n",
              "\n",
              "  <div class=\"colab-df-container\">\n",
              "    <button class=\"colab-df-convert\" onclick=\"convertToInteractive('df-95305f8e-5e42-4ccd-a1be-30ddb2d2adf1')\"\n",
              "            title=\"Convert this dataframe to an interactive table.\"\n",
              "            style=\"display:none;\">\n",
              "\n",
              "  <svg xmlns=\"http://www.w3.org/2000/svg\" height=\"24px\" viewBox=\"0 -960 960 960\">\n",
              "    <path d=\"M120-120v-720h720v720H120Zm60-500h600v-160H180v160Zm220 220h160v-160H400v160Zm0 220h160v-160H400v160ZM180-400h160v-160H180v160Zm440 0h160v-160H620v160ZM180-180h160v-160H180v160Zm440 0h160v-160H620v160Z\"/>\n",
              "  </svg>\n",
              "    </button>\n",
              "\n",
              "  <style>\n",
              "    .colab-df-container {\n",
              "      display:flex;\n",
              "      gap: 12px;\n",
              "    }\n",
              "\n",
              "    .colab-df-convert {\n",
              "      background-color: #E8F0FE;\n",
              "      border: none;\n",
              "      border-radius: 50%;\n",
              "      cursor: pointer;\n",
              "      display: none;\n",
              "      fill: #1967D2;\n",
              "      height: 32px;\n",
              "      padding: 0 0 0 0;\n",
              "      width: 32px;\n",
              "    }\n",
              "\n",
              "    .colab-df-convert:hover {\n",
              "      background-color: #E2EBFA;\n",
              "      box-shadow: 0px 1px 2px rgba(60, 64, 67, 0.3), 0px 1px 3px 1px rgba(60, 64, 67, 0.15);\n",
              "      fill: #174EA6;\n",
              "    }\n",
              "\n",
              "    .colab-df-buttons div {\n",
              "      margin-bottom: 4px;\n",
              "    }\n",
              "\n",
              "    [theme=dark] .colab-df-convert {\n",
              "      background-color: #3B4455;\n",
              "      fill: #D2E3FC;\n",
              "    }\n",
              "\n",
              "    [theme=dark] .colab-df-convert:hover {\n",
              "      background-color: #434B5C;\n",
              "      box-shadow: 0px 1px 3px 1px rgba(0, 0, 0, 0.15);\n",
              "      filter: drop-shadow(0px 1px 2px rgba(0, 0, 0, 0.3));\n",
              "      fill: #FFFFFF;\n",
              "    }\n",
              "  </style>\n",
              "\n",
              "    <script>\n",
              "      const buttonEl =\n",
              "        document.querySelector('#df-95305f8e-5e42-4ccd-a1be-30ddb2d2adf1 button.colab-df-convert');\n",
              "      buttonEl.style.display =\n",
              "        google.colab.kernel.accessAllowed ? 'block' : 'none';\n",
              "\n",
              "      async function convertToInteractive(key) {\n",
              "        const element = document.querySelector('#df-95305f8e-5e42-4ccd-a1be-30ddb2d2adf1');\n",
              "        const dataTable =\n",
              "          await google.colab.kernel.invokeFunction('convertToInteractive',\n",
              "                                                    [key], {});\n",
              "        if (!dataTable) return;\n",
              "\n",
              "        const docLinkHtml = 'Like what you see? Visit the ' +\n",
              "          '<a target=\"_blank\" href=https://colab.research.google.com/notebooks/data_table.ipynb>data table notebook</a>'\n",
              "          + ' to learn more about interactive tables.';\n",
              "        element.innerHTML = '';\n",
              "        dataTable['output_type'] = 'display_data';\n",
              "        await google.colab.output.renderOutput(dataTable, element);\n",
              "        const docLink = document.createElement('div');\n",
              "        docLink.innerHTML = docLinkHtml;\n",
              "        element.appendChild(docLink);\n",
              "      }\n",
              "    </script>\n",
              "  </div>\n",
              "\n",
              "\n",
              "    <div id=\"df-5d4c6f33-3a7f-4255-a3c4-d582518285be\">\n",
              "      <button class=\"colab-df-quickchart\" onclick=\"quickchart('df-5d4c6f33-3a7f-4255-a3c4-d582518285be')\"\n",
              "                title=\"Suggest charts\"\n",
              "                style=\"display:none;\">\n",
              "\n",
              "<svg xmlns=\"http://www.w3.org/2000/svg\" height=\"24px\"viewBox=\"0 0 24 24\"\n",
              "     width=\"24px\">\n",
              "    <g>\n",
              "        <path d=\"M19 3H5c-1.1 0-2 .9-2 2v14c0 1.1.9 2 2 2h14c1.1 0 2-.9 2-2V5c0-1.1-.9-2-2-2zM9 17H7v-7h2v7zm4 0h-2V7h2v10zm4 0h-2v-4h2v4z\"/>\n",
              "    </g>\n",
              "</svg>\n",
              "      </button>\n",
              "\n",
              "<style>\n",
              "  .colab-df-quickchart {\n",
              "      --bg-color: #E8F0FE;\n",
              "      --fill-color: #1967D2;\n",
              "      --hover-bg-color: #E2EBFA;\n",
              "      --hover-fill-color: #174EA6;\n",
              "      --disabled-fill-color: #AAA;\n",
              "      --disabled-bg-color: #DDD;\n",
              "  }\n",
              "\n",
              "  [theme=dark] .colab-df-quickchart {\n",
              "      --bg-color: #3B4455;\n",
              "      --fill-color: #D2E3FC;\n",
              "      --hover-bg-color: #434B5C;\n",
              "      --hover-fill-color: #FFFFFF;\n",
              "      --disabled-bg-color: #3B4455;\n",
              "      --disabled-fill-color: #666;\n",
              "  }\n",
              "\n",
              "  .colab-df-quickchart {\n",
              "    background-color: var(--bg-color);\n",
              "    border: none;\n",
              "    border-radius: 50%;\n",
              "    cursor: pointer;\n",
              "    display: none;\n",
              "    fill: var(--fill-color);\n",
              "    height: 32px;\n",
              "    padding: 0;\n",
              "    width: 32px;\n",
              "  }\n",
              "\n",
              "  .colab-df-quickchart:hover {\n",
              "    background-color: var(--hover-bg-color);\n",
              "    box-shadow: 0 1px 2px rgba(60, 64, 67, 0.3), 0 1px 3px 1px rgba(60, 64, 67, 0.15);\n",
              "    fill: var(--button-hover-fill-color);\n",
              "  }\n",
              "\n",
              "  .colab-df-quickchart-complete:disabled,\n",
              "  .colab-df-quickchart-complete:disabled:hover {\n",
              "    background-color: var(--disabled-bg-color);\n",
              "    fill: var(--disabled-fill-color);\n",
              "    box-shadow: none;\n",
              "  }\n",
              "\n",
              "  .colab-df-spinner {\n",
              "    border: 2px solid var(--fill-color);\n",
              "    border-color: transparent;\n",
              "    border-bottom-color: var(--fill-color);\n",
              "    animation:\n",
              "      spin 1s steps(1) infinite;\n",
              "  }\n",
              "\n",
              "  @keyframes spin {\n",
              "    0% {\n",
              "      border-color: transparent;\n",
              "      border-bottom-color: var(--fill-color);\n",
              "      border-left-color: var(--fill-color);\n",
              "    }\n",
              "    20% {\n",
              "      border-color: transparent;\n",
              "      border-left-color: var(--fill-color);\n",
              "      border-top-color: var(--fill-color);\n",
              "    }\n",
              "    30% {\n",
              "      border-color: transparent;\n",
              "      border-left-color: var(--fill-color);\n",
              "      border-top-color: var(--fill-color);\n",
              "      border-right-color: var(--fill-color);\n",
              "    }\n",
              "    40% {\n",
              "      border-color: transparent;\n",
              "      border-right-color: var(--fill-color);\n",
              "      border-top-color: var(--fill-color);\n",
              "    }\n",
              "    60% {\n",
              "      border-color: transparent;\n",
              "      border-right-color: var(--fill-color);\n",
              "    }\n",
              "    80% {\n",
              "      border-color: transparent;\n",
              "      border-right-color: var(--fill-color);\n",
              "      border-bottom-color: var(--fill-color);\n",
              "    }\n",
              "    90% {\n",
              "      border-color: transparent;\n",
              "      border-bottom-color: var(--fill-color);\n",
              "    }\n",
              "  }\n",
              "</style>\n",
              "\n",
              "      <script>\n",
              "        async function quickchart(key) {\n",
              "          const quickchartButtonEl =\n",
              "            document.querySelector('#' + key + ' button');\n",
              "          quickchartButtonEl.disabled = true;  // To prevent multiple clicks.\n",
              "          quickchartButtonEl.classList.add('colab-df-spinner');\n",
              "          try {\n",
              "            const charts = await google.colab.kernel.invokeFunction(\n",
              "                'suggestCharts', [key], {});\n",
              "          } catch (error) {\n",
              "            console.error('Error during call to suggestCharts:', error);\n",
              "          }\n",
              "          quickchartButtonEl.classList.remove('colab-df-spinner');\n",
              "          quickchartButtonEl.classList.add('colab-df-quickchart-complete');\n",
              "        }\n",
              "        (() => {\n",
              "          let quickchartButtonEl =\n",
              "            document.querySelector('#df-5d4c6f33-3a7f-4255-a3c4-d582518285be button');\n",
              "          quickchartButtonEl.style.display =\n",
              "            google.colab.kernel.accessAllowed ? 'block' : 'none';\n",
              "        })();\n",
              "      </script>\n",
              "    </div>\n",
              "\n",
              "    </div>\n",
              "  </div>\n"
            ],
            "application/vnd.google.colaboratory.intrinsic+json": {
              "type": "dataframe",
              "variable_name": "df",
              "summary": "{\n  \"name\": \"df\",\n  \"rows\": 1400,\n  \"fields\": [\n    {\n      \"column\": \"X\",\n      \"properties\": {\n        \"dtype\": \"number\",\n        \"std\": 0.4045784848667186,\n        \"min\": 5.8,\n        \"max\": 7.2,\n        \"num_unique_values\": 1400,\n        \"samples\": [\n          6.465475339528234,\n          6.424446032880629,\n          5.915082201572551\n        ],\n        \"semantic_type\": \"\",\n        \"description\": \"\"\n      }\n    },\n    {\n      \"column\": \"Y\",\n      \"properties\": {\n        \"dtype\": \"number\",\n        \"std\": 0.25609155080512586,\n        \"min\": 0.1000000000025001,\n        \"max\": 1.16345396832566,\n        \"num_unique_values\": 1400,\n        \"samples\": [\n          0.6749023424601166,\n          0.5396238680567055,\n          0.1000176701334278\n        ],\n        \"semantic_type\": \"\",\n        \"description\": \"\"\n      }\n    },\n    {\n      \"column\": \"Y_noisy\",\n      \"properties\": {\n        \"dtype\": \"number\",\n        \"std\": 0.25753116280030963,\n        \"min\": 0.0395437748997291,\n        \"max\": 1.186415800339949,\n        \"num_unique_values\": 1400,\n        \"samples\": [\n          0.6883319794153778,\n          0.5432652281607895,\n          0.1030514181044857\n        ],\n        \"semantic_type\": \"\",\n        \"description\": \"\"\n      }\n    }\n  ]\n}"
            }
          },
          "metadata": {},
          "execution_count": 3
        }
      ],
      "source": [
        "# Upload file\n",
        "uploaded = files.upload()\n",
        "\n",
        "# Load the file into a DataFrame\n",
        "for fname in uploaded:\n",
        "    if fname.endswith('.csv'):\n",
        "        df = pd.read_csv(io.BytesIO(uploaded[fname]))\n",
        "    elif fname.endswith('.xls') or fname.endswith('.xlsx'):\n",
        "        df = pd.read_excel(io.BytesIO(uploaded[fname]))\n",
        "    else:\n",
        "        raise ValueError(\"Unsupported file format. Please upload a .csv or .xls file.\")\n",
        "\n",
        "print(\"✅ File loaded successfully!\")\n",
        "df.head()"
      ],
      "id": "ZAFONN4R-Avb"
    },
    {
      "cell_type": "markdown",
      "metadata": {
        "id": "xm7fAT1I-Avb"
      },
      "source": [
        "## 📊 Select X and Y Columns\n",
        "Choose which columns in your data represent the X and Y values for analysis."
      ],
      "id": "xm7fAT1I-Avb"
    },
    {
      "cell_type": "code",
      "execution_count": 4,
      "metadata": {
        "colab": {
          "base_uri": "https://localhost:8080/",
          "height": 79,
          "referenced_widgets": [
            "7112f89176f143d680cc11250ac7a84f",
            "a4641e8779524f3f8fb1c4b1a1127fcd",
            "163119ea3cf64c84bb70fa34e387e41a",
            "e0455b586f5343b984b011ebe6a9c15f",
            "1416fa2d57ec4789ac15ae58d617f9ab",
            "a65ad5d7e25c44ed86a2b9d3ac2de20f"
          ]
        },
        "id": "rMQGUmY3-Avb",
        "outputId": "568e0854-9758-495f-c8a0-a8f23f09ec87"
      },
      "outputs": [
        {
          "output_type": "display_data",
          "data": {
            "text/plain": [
              "Dropdown(description='X Column:', options=('X', 'Y', 'Y_noisy'), value='X')"
            ],
            "application/vnd.jupyter.widget-view+json": {
              "version_major": 2,
              "version_minor": 0,
              "model_id": "7112f89176f143d680cc11250ac7a84f"
            }
          },
          "metadata": {}
        },
        {
          "output_type": "display_data",
          "data": {
            "text/plain": [
              "Dropdown(description='Y Column:', options=('X', 'Y', 'Y_noisy'), value='X')"
            ],
            "application/vnd.jupyter.widget-view+json": {
              "version_major": 2,
              "version_minor": 0,
              "model_id": "e0455b586f5343b984b011ebe6a9c15f"
            }
          },
          "metadata": {}
        }
      ],
      "source": [
        "# Create dropdowns for column selection\n",
        "x_dropdown = widgets.Dropdown(options=df.columns.tolist(), description='X Column:')\n",
        "y_dropdown = widgets.Dropdown(options=df.columns.tolist(), description='Y Column:')\n",
        "display(x_dropdown, y_dropdown)"
      ],
      "id": "rMQGUmY3-Avb"
    },
    {
      "cell_type": "markdown",
      "metadata": {
        "id": "DT3tnR9w-Avc"
      },
      "source": [
        "## 🔍 Peak Detection\n",
        "Detect peaks in your Y data and visualize them on a plot."
      ],
      "id": "DT3tnR9w-Avc"
    },
    {
      "cell_type": "code",
      "execution_count": 24,
      "metadata": {
        "colab": {
          "base_uri": "https://localhost:8080/",
          "height": 410
        },
        "id": "lYjZeAEi-Avc",
        "outputId": "a165d9f1-7662-46da-f780-4c46c104c1c5"
      },
      "outputs": [
        {
          "output_type": "display_data",
          "data": {
            "text/plain": [
              "<Figure size 1000x400 with 1 Axes>"
            ],
            "image/png": "[encoded data removed]"
          },
          "metadata": {}
        }
      ],
      "source": [
        "# Detect and plot peaks\n",
        "def detect_and_plot_peaks(x_col, y_col):\n",
        "    x = df[x_col].values\n",
        "    y = df[y_col].values\n",
        "    peaks, _ = find_peaks(y, height=0.6, threshold = 0.01, distance = 100, prominence=0.01)\n",
        "    plt.figure(figsize=(10, 4))\n",
        "    plt.plot(x, y, label='Data')\n",
        "    plt.plot(x[peaks], y[peaks], 'ro', label='Detected Peaks')\n",
        "    plt.title('Peak Detection')\n",
        "    plt.xlabel('X')\n",
        "    plt.ylabel('Y')\n",
        "    plt.legend()\n",
        "    plt.grid(True)\n",
        "    plt.show()\n",
        "    return peaks\n",
        "\n",
        "peaks = detect_and_plot_peaks(x_dropdown.value, y_dropdown.value)"
      ],
      "id": "lYjZeAEi-Avc"
    },
    {
      "cell_type": "markdown",
      "metadata": {
        "id": "ZerDHjtE-Avc"
      },
      "source": [
        "## ✅ Accept or Override Peak Guesses\n",
        "Choose whether to use the detected peaks or manually input initial guesses."
      ],
      "id": "ZerDHjtE-Avc"
    },
    {
      "cell_type": "code",
      "execution_count": 25,
      "metadata": {
        "colab": {
          "base_uri": "https://localhost:8080/",
          "height": 50,
          "referenced_widgets": [
            "b8952ce3ad1849a0876fd519ed32caf4",
            "465d6576ae3f47aca640574a335684cc",
            "f41b66736e6441feb7a326770dc4647b"
          ]
        },
        "id": "oheaPP2r-Avc",
        "outputId": "5f7feea4-09bc-4695-fe5e-47fd8cf1e014"
      },
      "outputs": [
        {
          "output_type": "display_data",
          "data": {
            "text/plain": [
              "ToggleButtons(description='Peak Init:', options=('Accept Detected Peaks', 'Input Manually'), style=ToggleButto…"
            ],
            "application/vnd.jupyter.widget-view+json": {
              "version_major": 2,
              "version_minor": 0,
              "model_id": "b8952ce3ad1849a0876fd519ed32caf4"
            }
          },
          "metadata": {}
        }
      ],
      "source": [
        "# Toggle for accepting peak guesses\n",
        "accept_peaks = widgets.ToggleButtons(\n",
        "    options=['Accept Detected Peaks', 'Input Manually'],\n",
        "    description='Peak Init:',\n",
        "    style={'description_width': 'initial'}\n",
        ")\n",
        "display(accept_peaks)"
      ],
      "id": "oheaPP2r-Avc"
    },
    {
      "cell_type": "markdown",
      "metadata": {
        "id": "1YpgqvFx-Avc"
      },
      "source": [
        "## ⚙️ Baseline Toggle\n",
        "Choose whether to include a baseline in the Gaussian fit."
      ],
      "id": "1YpgqvFx-Avc"
    },
    {
      "cell_type": "code",
      "execution_count": 26,
      "metadata": {
        "colab": {
          "base_uri": "https://localhost:8080/",
          "height": 49,
          "referenced_widgets": [
            "d2f2ce4fe38346ef9f4cf4755c837cd4",
            "ee6b12af1ff74f36ab9b47e00602a316",
            "8c36253898f749559e89c57a0cece90f"
          ]
        },
        "id": "zfNxEuUt-Avc",
        "outputId": "ec6a1c86-69ca-4d8c-f3a6-0b6df850836f"
      },
      "outputs": [
        {
          "output_type": "display_data",
          "data": {
            "text/plain": [
              "Checkbox(value=True, description='Fit Baseline')"
            ],
            "application/vnd.jupyter.widget-view+json": {
              "version_major": 2,
              "version_minor": 0,
              "model_id": "d2f2ce4fe38346ef9f4cf4755c837cd4"
            }
          },
          "metadata": {}
        }
      ],
      "source": [
        "# Checkbox for baseline fitting\n",
        "fit_baseline = widgets.Checkbox(value=True, description='Fit Baseline')\n",
        "display(fit_baseline)"
      ],
      "id": "zfNxEuUt-Avc"
    },
    {
      "cell_type": "markdown",
      "metadata": {
        "id": "C_FZZNm5-Avc"
      },
      "source": [
        "## 📈 Fit Gaussians to Data\n",
        "Fit the data to a sum of Gaussians using the selected parameters."
      ],
      "id": "C_FZZNm5-Avc"
    },
    {
      "cell_type": "code",
      "execution_count": 29,
      "metadata": {
        "colab": {
          "base_uri": "https://localhost:8080/",
          "height": 410
        },
        "id": "g5SvCwCQ-Avc",
        "outputId": "68f4284a-fc9d-45d1-b285-113d855cd8cc"
      },
      "outputs": [
        {
          "output_type": "display_data",
          "data": {
            "text/plain": [
              "<Figure size 1000x400 with 1 Axes>"
            ],
            "image/png": "[encoded data removed]"
          },
          "metadata": {}
        }
      ],
      "source": [
        "# Define Gaussian model\n",
        "def gaussian(x, A, mu, sigma):\n",
        "    return A * np.exp(-((x - mu)**2) / (2 * sigma**2))\n",
        "\n",
        "def multi_gaussian(x, *params):\n",
        "    n = (len(params) - 1) // 3 if fit_baseline.value else len(params) // 3\n",
        "    y = np.zeros_like(x)\n",
        "    for i in range(n):\n",
        "        A = params[3*i]\n",
        "        mu = params[3*i+1]\n",
        "        sigma = params[3*i+2]\n",
        "        y += gaussian(x, A, mu, sigma)\n",
        "    if fit_baseline.value:\n",
        "        y += params[-1]\n",
        "    return y\n",
        "\n",
        "# Prepare initial guesses\n",
        "x = df[x_dropdown.value].values\n",
        "y = df[y_dropdown.value].values\n",
        "if accept_peaks.value == 'Accept Detected Peaks':\n",
        "    init_params = []\n",
        "    for p in peaks:\n",
        "        init_params += [y[p], x[p], 0.1]\n",
        "    if fit_baseline.value:\n",
        "        init_params += [np.min(y)]\n",
        "else:\n",
        "    num_gaussians = int(input(\"Enter number of Gaussians: \"))\n",
        "    init_params = []\n",
        "    for i in range(num_gaussians):\n",
        "        A = float(input(f\"Amplitude {i+1}: \"))\n",
        "        mu = float(input(f\"Mean {i+1}: \"))\n",
        "        sigma = float(input(f\"Sigma {i+1}: \"))\n",
        "        init_params += [A, mu, sigma]\n",
        "    if fit_baseline.value:\n",
        "        init_params += [np.min(y)]\n",
        "\n",
        "# Fit the model\n",
        "popt, pcov = curve_fit(multi_gaussian, x, y, p0=init_params)\n",
        "y_fit = multi_gaussian(x, *popt)\n",
        "resid = y_fit - y\n",
        "\n",
        "# Plot fit\n",
        "plt.figure(figsize=(10, 4))\n",
        "plt.plot(x, y, label='Data')\n",
        "plt.plot(x, y_fit, 'r--', label='Gaussian Fit')\n",
        "plt.title('Gaussian Fit')\n",
        "plt.xlabel('X')\n",
        "plt.ylabel('Y')\n",
        "plt.legend()\n",
        "plt.grid(True)\n",
        "plt.show()"
      ],
      "id": "g5SvCwCQ-Avc"
    },
    {
      "cell_type": "markdown",
      "metadata": {
        "id": "GU2arKqp-Avc"
      },
      "source": [
        "## 📊 Fit Statistics\n",
        "Evaluate the quality of the fit using R², RMSE, and AIC."
      ],
      "id": "GU2arKqp-Avc"
    },
    {
      "cell_type": "code",
      "execution_count": 30,
      "metadata": {
        "colab": {
          "base_uri": "https://localhost:8080/"
        },
        "id": "KZVGYXv7-Avc",
        "outputId": "6721297f-922e-408f-9fdb-4e40966124e6"
      },
      "outputs": [
        {
          "output_type": "stream",
          "name": "stdout",
          "text": [
            "R²: 0.9938\n",
            "RMSE: 0.0203\n",
            "AIC: -10894.53\n"
          ]
        }
      ],
      "source": [
        "# Compute fit statistics\n",
        "residuals = y - y_fit\n",
        "ss_res = np.sum(residuals**2)\n",
        "ss_tot = np.sum((y - np.mean(y))**2)\n",
        "r_squared = 1 - (ss_res / ss_tot)\n",
        "rmse = np.sqrt(ss_res / len(y))\n",
        "aic = len(y) * np.log(ss_res / len(y)) + 2 * len(popt)\n",
        "\n",
        "print(f\"R²: {r_squared:.4f}\")\n",
        "print(f\"RMSE: {rmse:.4f}\")\n",
        "print(f\"AIC: {aic:.2f}\")"
      ],
      "id": "KZVGYXv7-Avc"
    },
    {
      "cell_type": "markdown",
      "metadata": {
        "id": "jgZHdxx9-Avc"
      },
      "source": [
        "## 💾 Export Results\n",
        "Save the fitted data and plot with a timestamped filename."
      ],
      "id": "jgZHdxx9-Avc"
    },
    {
      "cell_type": "code",
      "execution_count": 35,
      "metadata": {
        "colab": {
          "base_uri": "https://localhost:8080/",
          "height": 624
        },
        "id": "X0XHwzI5-Avc",
        "outputId": "ea79d52e-0dff-4b1d-a7d4-36e8a57ef1d1"
      },
      "outputs": [
        {
          "output_type": "display_data",
          "data": {
            "text/plain": [
              "<IPython.core.display.Javascript object>"
            ],
            "application/javascript": [
              "\n",
              "    async function download(id, filename, size) {\n",
              "      if (!google.colab.kernel.accessAllowed) {\n",
              "        return;\n",
              "      }\n",
              "      const div = document.createElement('div');\n",
              "      const label = document.createElement('label');\n",
              "      label.textContent = `Downloading \"${filename}\": `;\n",
              "      div.appendChild(label);\n",
              "      const progress = document.createElement('progress');\n",
              "      progress.max = size;\n",
              "      div.appendChild(progress);\n",
              "      document.body.appendChild(div);\n",
              "\n",
              "      const buffers = [];\n",
              "      let downloaded = 0;\n",
              "\n",
              "      const channel = await google.colab.kernel.comms.open(id);\n",
              "      // Send a message to notify the kernel that we're ready.\n",
              "      channel.send({})\n",
              "\n",
              "      for await (const message of channel.messages) {\n",
              "        // Send a message to notify the kernel that we're ready.\n",
              "        channel.send({})\n",
              "        if (message.buffers) {\n",
              "          for (const buffer of message.buffers) {\n",
              "            buffers.push(buffer);\n",
              "            downloaded += buffer.byteLength;\n",
              "            progress.value = downloaded;\n",
              "          }\n",
              "        }\n",
              "      }\n",
              "      const blob = new Blob(buffers, {type: 'application/binary'});\n",
              "      const a = document.createElement('a');\n",
              "      a.href = window.URL.createObjectURL(blob);\n",
              "      a.download = filename;\n",
              "      div.appendChild(a);\n",
              "      a.click();\n",
              "      div.remove();\n",
              "    }\n",
              "  "
            ]
          },
          "metadata": {}
        },
        {
          "output_type": "display_data",
          "data": {
            "text/plain": [
              "<IPython.core.display.Javascript object>"
            ],
            "application/javascript": [
              "download(\"download_9738afbc-cfc6-4d12-92bd-c000155b825c\", \"gaussian_fit_20250922_200743.csv\", 108709)"
            ]
          },
          "metadata": {}
        },
        {
          "output_type": "display_data",
          "data": {
            "text/plain": [
              "<IPython.core.display.Javascript object>"
            ],
            "application/javascript": [
              "\n",
              "    async function download(id, filename, size) {\n",
              "      if (!google.colab.kernel.accessAllowed) {\n",
              "        return;\n",
              "      }\n",
              "      const div = document.createElement('div');\n",
              "      const label = document.createElement('label');\n",
              "      label.textContent = `Downloading \"${filename}\": `;\n",
              "      div.appendChild(label);\n",
              "      const progress = document.createElement('progress');\n",
              "      progress.max = size;\n",
              "      div.appendChild(progress);\n",
              "      document.body.appendChild(div);\n",
              "\n",
              "      const buffers = [];\n",
              "      let downloaded = 0;\n",
              "\n",
              "      const channel = await google.colab.kernel.comms.open(id);\n",
              "      // Send a message to notify the kernel that we're ready.\n",
              "      channel.send({})\n",
              "\n",
              "      for await (const message of channel.messages) {\n",
              "        // Send a message to notify the kernel that we're ready.\n",
              "        channel.send({})\n",
              "        if (message.buffers) {\n",
              "          for (const buffer of message.buffers) {\n",
              "            buffers.push(buffer);\n",
              "            downloaded += buffer.byteLength;\n",
              "            progress.value = downloaded;\n",
              "          }\n",
              "        }\n",
              "      }\n",
              "      const blob = new Blob(buffers, {type: 'application/binary'});\n",
              "      const a = document.createElement('a');\n",
              "      a.href = window.URL.createObjectURL(blob);\n",
              "      a.download = filename;\n",
              "      div.appendChild(a);\n",
              "      a.click();\n",
              "      div.remove();\n",
              "    }\n",
              "  "
            ]
          },
          "metadata": {}
        },
        {
          "output_type": "display_data",
          "data": {
            "text/plain": [
              "<IPython.core.display.Javascript object>"
            ],
            "application/javascript": [
              "download(\"download_9301d312-223a-4199-a00a-b724ca374cb1\", \"gaussian_plot_20250922_200743.png\", 120217)"
            ]
          },
          "metadata": {}
        },
        {
          "output_type": "stream",
          "name": "stdout",
          "text": [
            "✅ Results saved and downloaded as gaussian_fit_20250922_200743.csv and gaussian_plot_20250922_200743.png\n"
          ]
        },
        {
          "output_type": "display_data",
          "data": {
            "text/plain": [
              "<Figure size 800x600 with 2 Axes>"
            ],
            "image/png": "[encoded data removed]"
          },
          "metadata": {}
        }
      ],
      "source": [
        "# Export results\n",
        "timestamp = datetime.now().strftime('%Y%m%d_%H%M%S')\n",
        "filename_csv = f\"gaussian_fit_{timestamp}.csv\"\n",
        "filename_png = f\"gaussian_plot_{timestamp}.png\"\n",
        "\n",
        "# Save data\n",
        "result_df = pd.DataFrame({'X': x, 'Y': y, 'Y_Fit': y_fit, 'Residuals': residuals})\n",
        "result_df.to_csv(filename_csv, index=False)\n",
        "\n",
        "# Save plot\n",
        "fig, (ax1, ax2) = plt.subplots(nrows=2, ncols=1, figsize=(8, 6), sharex=True)\n",
        "\n",
        "# Top: raw data + fitted curve\n",
        "ax1.plot(x, y, 'o', ms=3, label='data')\n",
        "ax1.plot(x, y_fit, '-', lw=2, label='fit')\n",
        "ax1.set_title('Data + Fitted Curve')\n",
        "ax1.set_ylabel('y')\n",
        "ax1.legend(loc='best')\n",
        "\n",
        "# Bottom: residuals\n",
        "ax2.axhline(0, lw=1)\n",
        "ax2.plot(x, residuals, '.', ms=3, label='residuals')\n",
        "ax2.set_title('Residuals')\n",
        "ax2.set_xlabel('x')\n",
        "ax2.set_ylabel('y - fit')\n",
        "\n",
        "plt.tight_layout()\n",
        "fig.savefig(filename_png, dpi=150, bbox_inches='tight')\n",
        "\n",
        "files.download(filename_csv)\n",
        "files.download(filename_png)\n",
        "\n",
        "print(f\"✅ Results saved and downloaded as {filename_csv} and {filename_png}\")"
      ],
      "id": "X0XHwzI5-Avc"
    }
  ],
  "metadata": {
    "kernelspec": {
      "display_name": "Python 3",
      "language": "python",
      "name": "python3"
    },
    "language_info": {
      "name": "python",
      "version": "3.9"
    },
    "colab": {
      "provenance": []
    },
    "widgets": {
      "application/vnd.jupyter.widget-state+json": {
        "7112f89176f143d680cc11250ac7a84f": {
          "model_module": "@jupyter-widgets/controls",
          "model_name": "DropdownModel",
          "model_module_version": "1.5.0",
          "state": {
            "_dom_classes": [],
            "_model_module": "@jupyter-widgets/controls",
            "_model_module_version": "1.5.0",
            "_model_name": "DropdownModel",
            "_options_labels": [
              "X",
              "Y",
              "Y_noisy"
            ],
            "_view_count": null,
            "_view_module": "@jupyter-widgets/controls",
            "_view_module_version": "1.5.0",
            "_view_name": "DropdownView",
            "description": "X Column:",
            "description_tooltip": null,
            "disabled": false,
            "index": 0,
            "layout": "IPY_MODEL_a4641e8779524f3f8fb1c4b1a1127fcd",
            "style": "IPY_MODEL_163119ea3cf64c84bb70fa34e387e41a"
          }
        },
        "a4641e8779524f3f8fb1c4b1a1127fcd": {
          "model_module": "@jupyter-widgets/base",
          "model_name": "LayoutModel",
          "model_module_version": "1.2.0",
          "state": {
            "_model_module": "@jupyter-widgets/base",
            "_model_module_version": "1.2.0",
            "_model_name": "LayoutModel",
            "_view_count": null,
            "_view_module": "@jupyter-widgets/base",
            "_view_module_version": "1.2.0",
            "_view_name": "LayoutView",
            "align_content": null,
            "align_items": null,
            "align_self": null,
            "border": null,
            "bottom": null,
            "display": null,
            "flex": null,
            "flex_flow": null,
            "grid_area": null,
            "grid_auto_columns": null,
            "grid_auto_flow": null,
            "grid_auto_rows": null,
            "grid_column": null,
            "grid_gap": null,
            "grid_row": null,
            "grid_template_areas": null,
            "grid_template_columns": null,
            "grid_template_rows": null,
            "height": null,
            "justify_content": null,
            "justify_items": null,
            "left": null,
            "margin": null,
            "max_height": null,
            "max_width": null,
            "min_height": null,
            "min_width": null,
            "object_fit": null,
            "object_position": null,
            "order": null,
            "overflow": null,
            "overflow_x": null,
            "overflow_y": null,
            "padding": null,
            "right": null,
            "top": null,
            "visibility": null,
            "width": null
          }
        },
        "163119ea3cf64c84bb70fa34e387e41a": {
          "model_module": "@jupyter-widgets/controls",
          "model_name": "DescriptionStyleModel",
          "model_module_version": "1.5.0",
          "state": {
            "_model_module": "@jupyter-widgets/controls",
            "_model_module_version": "1.5.0",
            "_model_name": "DescriptionStyleModel",
            "_view_count": null,
            "_view_module": "@jupyter-widgets/base",
            "_view_module_version": "1.2.0",
            "_view_name": "StyleView",
            "description_width": ""
          }
        },
        "e0455b586f5343b984b011ebe6a9c15f": {
          "model_module": "@jupyter-widgets/controls",
          "model_name": "DropdownModel",
          "model_module_version": "1.5.0",
          "state": {
            "_dom_classes": [],
            "_model_module": "@jupyter-widgets/controls",
            "_model_module_version": "1.5.0",
            "_model_name": "DropdownModel",
            "_options_labels": [
              "X",
              "Y",
              "Y_noisy"
            ],
            "_view_count": null,
            "_view_module": "@jupyter-widgets/controls",
            "_view_module_version": "1.5.0",
            "_view_name": "DropdownView",
            "description": "Y Column:",
            "description_tooltip": null,
            "disabled": false,
            "index": 2,
            "layout": "IPY_MODEL_1416fa2d57ec4789ac15ae58d617f9ab",
            "style": "IPY_MODEL_a65ad5d7e25c44ed86a2b9d3ac2de20f"
          }
        },
        "1416fa2d57ec4789ac15ae58d617f9ab": {
          "model_module": "@jupyter-widgets/base",
          "model_name": "LayoutModel",
          "model_module_version": "1.2.0",
          "state": {
            "_model_module": "@jupyter-widgets/base",
            "_model_module_version": "1.2.0",
            "_model_name": "LayoutModel",
            "_view_count": null,
            "_view_module": "@jupyter-widgets/base",
            "_view_module_version": "1.2.0",
            "_view_name": "LayoutView",
            "align_content": null,
            "align_items": null,
            "align_self": null,
            "border": null,
            "bottom": null,
            "display": null,
            "flex": null,
            "flex_flow": null,
            "grid_area": null,
            "grid_auto_columns": null,
            "grid_auto_flow": null,
            "grid_auto_rows": null,
            "grid_column": null,
            "grid_gap": null,
            "grid_row": null,
            "grid_template_areas": null,
            "grid_template_columns": null,
            "grid_template_rows": null,
            "height": null,
            "justify_content": null,
            "justify_items": null,
            "left": null,
            "margin": null,
            "max_height": null,
            "max_width": null,
            "min_height": null,
            "min_width": null,
            "object_fit": null,
            "object_position": null,
            "order": null,
            "overflow": null,
            "overflow_x": null,
            "overflow_y": null,
            "padding": null,
            "right": null,
            "top": null,
            "visibility": null,
            "width": null
          }
        },
        "a65ad5d7e25c44ed86a2b9d3ac2de20f": {
          "model_module": "@jupyter-widgets/controls",
          "model_name": "DescriptionStyleModel",
          "model_module_version": "1.5.0",
          "state": {
            "_model_module": "@jupyter-widgets/controls",
            "_model_module_version": "1.5.0",
            "_model_name": "DescriptionStyleModel",
            "_view_count": null,
            "_view_module": "@jupyter-widgets/base",
            "_view_module_version": "1.2.0",
            "_view_name": "StyleView",
            "description_width": ""
          }
        },
        "b8952ce3ad1849a0876fd519ed32caf4": {
          "model_module": "@jupyter-widgets/controls",
          "model_name": "ToggleButtonsModel",
          "model_module_version": "1.5.0",
          "state": {
            "_dom_classes": [],
            "_model_module": "@jupyter-widgets/controls",
            "_model_module_version": "1.5.0",
            "_model_name": "ToggleButtonsModel",
            "_options_labels": [
              "Accept Detected Peaks",
              "Input Manually"
            ],
            "_view_count": null,
            "_view_module": "@jupyter-widgets/controls",
            "_view_module_version": "1.5.0",
            "_view_name": "ToggleButtonsView",
            "button_style": "",
            "description": "Peak Init:",
            "description_tooltip": null,
            "disabled": false,
            "icons": [],
            "index": 0,
            "layout": "IPY_MODEL_465d6576ae3f47aca640574a335684cc",
            "style": "IPY_MODEL_f41b66736e6441feb7a326770dc4647b",
            "tooltips": []
          }
        },
        "465d6576ae3f47aca640574a335684cc": {
          "model_module": "@jupyter-widgets/base",
          "model_name": "LayoutModel",
          "model_module_version": "1.2.0",
          "state": {
            "_model_module": "@jupyter-widgets/base",
            "_model_module_version": "1.2.0",
            "_model_name": "LayoutModel",
            "_view_count": null,
            "_view_module": "@jupyter-widgets/base",
            "_view_module_version": "1.2.0",
            "_view_name": "LayoutView",
            "align_content": null,
            "align_items": null,
            "align_self": null,
            "border": null,
            "bottom": null,
            "display": null,
            "flex": null,
            "flex_flow": null,
            "grid_area": null,
            "grid_auto_columns": null,
            "grid_auto_flow": null,
            "grid_auto_rows": null,
            "grid_column": null,
            "grid_gap": null,
            "grid_row": null,
            "grid_template_areas": null,
            "grid_template_columns": null,
            "grid_template_rows": null,
            "height": null,
            "justify_content": null,
            "justify_items": null,
            "left": null,
            "margin": null,
            "max_height": null,
            "max_width": null,
            "min_height": null,
            "min_width": null,
            "object_fit": null,
            "object_position": null,
            "order": null,
            "overflow": null,
            "overflow_x": null,
            "overflow_y": null,
            "padding": null,
            "right": null,
            "top": null,
            "visibility": null,
            "width": null
          }
        },
        "f41b66736e6441feb7a326770dc4647b": {
          "model_module": "@jupyter-widgets/controls",
          "model_name": "ToggleButtonsStyleModel",
          "model_module_version": "1.5.0",
          "state": {
            "_model_module": "@jupyter-widgets/controls",
            "_model_module_version": "1.5.0",
            "_model_name": "ToggleButtonsStyleModel",
            "_view_count": null,
            "_view_module": "@jupyter-widgets/base",
            "_view_module_version": "1.2.0",
            "_view_name": "StyleView",
            "button_width": "",
            "description_width": "initial",
            "font_weight": ""
          }
        },
        "d2f2ce4fe38346ef9f4cf4755c837cd4": {
          "model_module": "@jupyter-widgets/controls",
          "model_name": "CheckboxModel",
          "model_module_version": "1.5.0",
          "state": {
            "_dom_classes": [],
            "_model_module": "@jupyter-widgets/controls",
            "_model_module_version": "1.5.0",
            "_model_name": "CheckboxModel",
            "_view_count": null,
            "_view_module": "@jupyter-widgets/controls",
            "_view_module_version": "1.5.0",
            "_view_name": "CheckboxView",
            "description": "Fit Baseline",
            "description_tooltip": null,
            "disabled": false,
            "indent": true,
            "layout": "IPY_MODEL_ee6b12af1ff74f36ab9b47e00602a316",
            "style": "IPY_MODEL_8c36253898f749559e89c57a0cece90f",
            "value": true
          }
        },
        "ee6b12af1ff74f36ab9b47e00602a316": {
          "model_module": "@jupyter-widgets/base",
          "model_name": "LayoutModel",
          "model_module_version": "1.2.0",
          "state": {
            "_model_module": "@jupyter-widgets/base",
            "_model_module_version": "1.2.0",
            "_model_name": "LayoutModel",
            "_view_count": null,
            "_view_module": "@jupyter-widgets/base",
            "_view_module_version": "1.2.0",
            "_view_name": "LayoutView",
            "align_content": null,
            "align_items": null,
            "align_self": null,
            "border": null,
            "bottom": null,
            "display": null,
            "flex": null,
            "flex_flow": null,
            "grid_area": null,
            "grid_auto_columns": null,
            "grid_auto_flow": null,
            "grid_auto_rows": null,
            "grid_column": null,
            "grid_gap": null,
            "grid_row": null,
            "grid_template_areas": null,
            "grid_template_columns": null,
            "grid_template_rows": null,
            "height": null,
            "justify_content": null,
            "justify_items": null,
            "left": null,
            "margin": null,
            "max_height": null,
            "max_width": null,
            "min_height": null,
            "min_width": null,
            "object_fit": null,
            "object_position": null,
            "order": null,
            "overflow": null,
            "overflow_x": null,
            "overflow_y": null,
            "padding": null,
            "right": null,
            "top": null,
            "visibility": null,
            "width": null
          }
        },
        "8c36253898f749559e89c57a0cece90f": {
          "model_module": "@jupyter-widgets/controls",
          "model_name": "DescriptionStyleModel",
          "model_module_version": "1.5.0",
          "state": {
            "_model_module": "@jupyter-widgets/controls",
            "_model_module_version": "1.5.0",
            "_model_name": "DescriptionStyleModel",
            "_view_count": null,
            "_view_module": "@jupyter-widgets/base",
            "_view_module_version": "1.2.0",
            "_view_name": "StyleView",
            "description_width": ""
          }
        }
      }
    }
  },
  "nbformat": 4,
  "nbformat_minor": 5
}