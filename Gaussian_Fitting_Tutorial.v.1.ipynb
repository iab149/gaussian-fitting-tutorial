{
 "cells": [
  {
   "cell_type": "code",
   "execution_count": null,
   "id": "9a556e0a",
   "metadata": {},
   "outputs": [],
   "source": [
    "import numpy as np\n",
    "import matplotlib.pyplot as plt\n",
    "from scipy.optimize import curve_fit\n",
    "import pandas as pd\n",
    "from openpyxl import Workbook\n",
    "from openpyxl.utils.dataframe import dataframe_to_rows\n",
    "from openpyxl.worksheet.table import Table, TableStyleInfo\n",
    "from openpyxl.styles import Font\n",
    "from IPython.display import FileLink\n"
   ]
  },
  {
   "cell_type": "code",
   "execution_count": null,
   "id": "0e4ebfc1",
   "metadata": {},
   "outputs": [],
   "source": [
    "# Define the Gaussian function with baseline\n",
    "def gaussian_with_baseline(x, amp1, cen1, wid1, amp2, cen2, wid2, baseline):\n",
    "    return (amp1 * np.exp(-(x - cen1)**2 / (2 * wid1**2)) +\n",
    "            amp2 * np.exp(-(x - cen2)**2 / (2 * wid2**2)) +\n",
    "            baseline)\n"
   ]
  },
  {
   "cell_type": "code",
   "execution_count": null,
   "id": "544ab6b6",
   "metadata": {},
   "outputs": [],
   "source": [
    "# Generate synthetic data\n",
    "np.random.seed(0)\n",
    "x_data = np.linspace(0, 100, 200)\n",
    "y_data = (30 * np.exp(-(x_data - 30)**2 / (2 * 10**2)) +\n",
    "          20 * np.exp(-(x_data - 70)**2 / (2 * 8**2)) +\n",
    "          5 + np.random.normal(0, 2, x_data.size))\n"
   ]
  },
  {
   "cell_type": "code",
   "execution_count": null,
   "id": "22f73b12",
   "metadata": {},
   "outputs": [],
   "source": [
    "# Fit the data\n",
    "initial_guess = [25, 25, 10, 15, 65, 10, 5]\n",
    "params, _ = curve_fit(gaussian_with_baseline, x_data, y_data, p0=initial_guess)\n",
    "y_fit = gaussian_with_baseline(x_data, *params)\n",
    "residuals = y_data - y_fit\n"
   ]
  },
  {
   "cell_type": "code",
   "execution_count": null,
   "id": "c7a1b49b",
   "metadata": {},
   "outputs": [],
   "source": [
    "# Individual Gaussians and baseline\n",
    "gauss1 = params[0] * np.exp(-(x_data - params[1])**2 / (2 * params[2]**2))\n",
    "gauss2 = params[3] * np.exp(-(x_data - params[4])**2 / (2 * params[5]**2))\n",
    "baseline = np.full_like(x_data, params[6])\n"
   ]
  },
  {
   "cell_type": "code",
   "execution_count": null,
   "id": "01bde6b3",
   "metadata": {},
   "outputs": [],
   "source": [
    "# Plotting\n",
    "fig, axs = plt.subplots(3, 1, figsize=(10, 12), sharex=True)\n",
    "axs[0].plot(x_data, y_data, 'b.', label='Observed')\n",
    "axs[0].plot(x_data, y_fit, 'r-', label='Fitted')\n",
    "axs[0].legend()\n",
    "axs[0].set_title('Observed vs Fitted')\n",
    "\n",
    "axs[1].plot(x_data, gauss1, 'g--', label='Gaussian 1')\n",
    "axs[1].plot(x_data, gauss2, 'm--', label='Gaussian 2')\n",
    "axs[1].plot(x_data, baseline, 'k--', label='Baseline')\n",
    "axs[1].legend()\n",
    "axs[1].set_title('Individual Gaussians and Baseline')\n",
    "\n",
    "axs[2].plot(x_data, residuals, 'k.')\n",
    "axs[2].axhline(0, color='gray', linestyle='--')\n",
    "axs[2].set_title('Residuals')\n",
    "axs[2].set_xlabel('X')\n",
    "\n",
    "plt.tight_layout()\n",
    "plt.savefig(\"gaussian_fit_plot.png\")\n"
   ]
  },
  {
   "cell_type": "code",
   "execution_count": null,
   "id": "dc0a4437",
   "metadata": {},
   "outputs": [],
   "source": [
    "# Prepare Excel data\n",
    "df_results = pd.DataFrame({\n",
    "    'X': x_data,\n",
    "    'Y Observed': y_data,\n",
    "    'Y Fitted': y_fit,\n",
    "    'Residuals': residuals\n",
    "})\n",
    "\n",
    "mse = np.mean(residuals**2)\n",
    "rmse = np.sqrt(mse)\n",
    "mae = np.mean(np.abs(residuals))\n",
    "\n",
    "df_stats = pd.DataFrame({\n",
    "    'Statistic': ['MSE', 'RMSE', 'MAE'],\n",
    "    'Value': [mse, rmse, mae]\n",
    "})\n",
    "\n",
    "# Create Excel workbook\n",
    "wb = Workbook()\n",
    "ws1 = wb.active\n",
    "ws1.title = \"Fit Results\"\n",
    "\n",
    "for r in dataframe_to_rows(df_results, index=False, header=True):\n",
    "    ws1.append(r)\n",
    "\n",
    "tab = Table(displayName=\"FitResults\", ref=f\"A1:D{len(df_results)+1}\")\n",
    "style = TableStyleInfo(name=\"TableStyleMedium9\", showRowStripes=True)\n",
    "tab.tableStyleInfo = style\n",
    "ws1.add_table(tab)\n",
    "\n",
    "ws2 = wb.create_sheet(title=\"Statistics\")\n",
    "for r in dataframe_to_rows(df_stats, index=False, header=True):\n",
    "    ws2.append(r)\n",
    "\n",
    "for col in ws1.columns:\n",
    "    max_length = max(len(str(cell.value)) for cell in col)\n",
    "    ws1.column_dimensions[col[0].column_letter].width = max_length + 2\n",
    "\n",
    "for col in ws2.columns:\n",
    "    max_length = max(len(str(cell.value)) for cell in col)\n",
    "    ws2.column_dimensions[col[0].column_letter].width = max_length + 2\n",
    "\n",
    "wb.save(\"gaussian_fit_results.xlsx\")\n"
   ]
  },
  {
   "cell_type": "code",
   "execution_count": null,
   "id": "52cb5125",
   "metadata": {},
   "outputs": [],
   "source": [
    "# Provide download links\n",
    "print(\"Download Excel file:\")\n",
    "display(FileLink(\"gaussian_fit_results.xlsx\"))\n",
    "\n",
    "print(\"Download plot image:\")\n",
    "display(FileLink(\"gaussian_fit_plot.png\"))\n"
   ]
  }
 ],
 "metadata": {},
 "nbformat": 4,
 "nbformat_minor": 5
}
